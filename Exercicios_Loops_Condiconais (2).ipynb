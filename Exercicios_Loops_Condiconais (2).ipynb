{
  "nbformat": 4,
  "nbformat_minor": 0,
  "metadata": {
    "colab": {
      "provenance": []
    },
    "kernelspec": {
      "name": "python3",
      "display_name": "Python 3"
    },
    "language_info": {
      "name": "python"
    }
  },
  "cells": [
    {
      "cell_type": "code",
      "source": [
        "# Exercício 1 - Crie uma estrutura que pergunte ao usuário qual o dia da semana. Se o dia for igual a Domingo ou\n",
        "# igual a sábado, imprima na tela \"Hoje é dia de descanso\", caso contrário imprima na tela \"Você precisa trabalhar!\"\n",
        "\n",
        "# Solicitar ao usuário qual o dia da semana\n",
        "dia_da_semana = input(\"Digite o dia da semana: \")\n",
        "\n",
        "# Verificar se é Domingo ou Sábado e imprimir a mensagem apropriada\n",
        "if dia_da_semana.lower() == \"domingo\" or dia_da_semana.lower() == \"sábado\":\n",
        "    print(\"Hoje é dia de descanso\")\n",
        "else:\n",
        "    print(\"Você precisa trabalhar!\")"
      ],
      "metadata": {
        "colab": {
          "base_uri": "https://localhost:8080/"
        },
        "id": "zaCn8WIMqzTi",
        "outputId": "d4911b5c-7781-488c-8b3c-bdc1d09d2c76"
      },
      "execution_count": null,
      "outputs": [
        {
          "output_type": "stream",
          "name": "stdout",
          "text": [
            "Digite o dia da semana: segunda\n",
            "Você precisa trabalhar!\n"
          ]
        }
      ]
    },
    {
      "cell_type": "code",
      "source": [
        "# Exercício 2 - Crie uma lista de 5 frutas e verifique se a fruta 'Morango' faz parte da lista\n",
        "\n",
        "# Criar uma lista de frutas\n",
        "frutas = [\"Banana\", \"Maçã\", \"Pera\", \"Uva\", \"Morango\"]\n",
        "\n",
        "# Verificar se 'Morango' faz parte da lista\n",
        "if \"Morango\" in frutas:\n",
        "    print(\"Sim, 'Morango' faz parte da lista de frutas.\")\n",
        "else:\n",
        "    print(\"Não, 'Morango' não faz parte da lista de frutas.\")\n"
      ],
      "metadata": {
        "colab": {
          "base_uri": "https://localhost:8080/"
        },
        "id": "v0DmV2Qxq-in",
        "outputId": "f67d878f-c439-4087-cd9b-e3de62369cd6"
      },
      "execution_count": null,
      "outputs": [
        {
          "output_type": "stream",
          "name": "stdout",
          "text": [
            "Sim, 'Morango' faz parte da lista de frutas.\n"
          ]
        }
      ]
    },
    {
      "cell_type": "code",
      "source": [
        "# Exercício 3 - Crie uma tupla de 4 elementos, multiplique cada elemento da tupla por 2 e guarde os resultados em uma\n",
        "# lista\n",
        "\n",
        "# Criar uma tupla de 4 elementos\n",
        "tupla = (3, 7, 2, 9)\n",
        "\n",
        "# Inicializar uma lista para armazenar os resultados\n",
        "resultados = []\n",
        "\n",
        "# Multiplicar cada elemento da tupla por 2 e guardar os resultados na lista\n",
        "for elemento in tupla:\n",
        "    resultado = elemento * 2\n",
        "    resultados.append(resultado)\n",
        "\n",
        "# Imprimir a lista de resultados\n",
        "print(resultados)\n"
      ],
      "metadata": {
        "colab": {
          "base_uri": "https://localhost:8080/"
        },
        "id": "xRqMVUlerFkq",
        "outputId": "e8ddc743-ce16-4199-97ec-2c2402787189"
      },
      "execution_count": null,
      "outputs": [
        {
          "output_type": "stream",
          "name": "stdout",
          "text": [
            "[6, 14, 4, 18]\n"
          ]
        }
      ]
    },
    {
      "cell_type": "code",
      "source": [
        "# Exercício 4 - Crie uma sequência de números pares entre 100 e 150 e imprima na tela\n",
        "\n",
        "# Inicializar uma lista para armazenar os números pares\n",
        "numeros_pares = []\n",
        "\n",
        "# Criar a sequência de números pares entre 100 e 150\n",
        "for num in range(100, 151, 2):\n",
        "    numeros_pares.append(num)\n",
        "\n",
        "# Imprimir a lista de números pares\n",
        "print(numeros_pares)\n"
      ],
      "metadata": {
        "colab": {
          "base_uri": "https://localhost:8080/"
        },
        "id": "5DilGoxurNDO",
        "outputId": "fec18db5-7334-4369-e229-7e98d3b40fe2"
      },
      "execution_count": null,
      "outputs": [
        {
          "output_type": "stream",
          "name": "stdout",
          "text": [
            "[100, 102, 104, 106, 108, 110, 112, 114, 116, 118, 120, 122, 124, 126, 128, 130, 132, 134, 136, 138, 140, 142, 144, 146, 148, 150]\n"
          ]
        }
      ]
    },
    {
      "cell_type": "code",
      "source": [
        "# Exercício 5 - Crie uma variável chamada temperatura e atribua o valor 40. Enquanto temperatura for maior que 35,\n",
        "# imprima as temperaturas na tela\n",
        "\n",
        "# Inicializar a variável temperatura com o valor 40\n",
        "temperatura = 40\n",
        "\n",
        "# Enquanto a temperatura for maior que 35, imprimir na tela\n",
        "while temperatura > 35:\n",
        "    print(f\"Temperatura: {temperatura}°C\")\n",
        "    temperatura -= 1\n"
      ],
      "metadata": {
        "colab": {
          "base_uri": "https://localhost:8080/"
        },
        "id": "uHX4oZBJrWwS",
        "outputId": "eb4da6ff-c8a5-43ba-829b-af705df4af56"
      },
      "execution_count": null,
      "outputs": [
        {
          "output_type": "stream",
          "name": "stdout",
          "text": [
            "Temperatura: 40°C\n",
            "Temperatura: 39°C\n",
            "Temperatura: 38°C\n",
            "Temperatura: 37°C\n",
            "Temperatura: 36°C\n"
          ]
        }
      ]
    },
    {
      "cell_type": "code",
      "source": [
        "# Exercício 6 - Crie uma variável chamada contador = 0. Enquanto counter for menor que 100, imprima os valores na tela,\n",
        "# mas quando for encontrado o valor 23, interrompa a execução do programa\n",
        "# Inicializar a variável contador com o valor 0\n",
        "\n",
        "contador = 0\n",
        "\n",
        "# Enquanto o contador for menor que 100, imprimir os valores na tela\n",
        "while contador < 100:\n",
        "    print(contador)\n",
        "    contador += 1\n",
        "\n",
        "    # Verificar se o valor é 23 e interromper a execução se for\n",
        "    if contador == 23:\n",
        "        break\n"
      ],
      "metadata": {
        "colab": {
          "base_uri": "https://localhost:8080/"
        },
        "id": "-zsovK0trk42",
        "outputId": "91a9f23c-20bd-450b-8b17-3262b14bff45"
      },
      "execution_count": null,
      "outputs": [
        {
          "output_type": "stream",
          "name": "stdout",
          "text": [
            "0\n",
            "1\n",
            "2\n",
            "3\n",
            "4\n",
            "5\n",
            "6\n",
            "7\n",
            "8\n",
            "9\n",
            "10\n",
            "11\n",
            "12\n",
            "13\n",
            "14\n",
            "15\n",
            "16\n",
            "17\n",
            "18\n",
            "19\n",
            "20\n",
            "21\n",
            "22\n"
          ]
        }
      ]
    },
    {
      "cell_type": "code",
      "source": [
        "# Exercício 7 - Crie uma lista vazia e uma variável com valor 4. Enquanto o valor da variável for menor ou igual a 20,\n",
        "# adicione à lista, apenas os valores pares e imprima a lista\n",
        "\n",
        "# Inicializar uma lista vazia\n",
        "lista_valores_pares = []\n",
        "\n",
        "# Inicializar a variável com valor 4\n",
        "valor = 4\n",
        "\n",
        "# Enquanto o valor for menor ou igual a 20, adicionar os valores pares à lista\n",
        "while valor <= 20:\n",
        "    if valor % 2 == 0:\n",
        "        lista_valores_pares.append(valor)\n",
        "    valor += 1\n",
        "\n",
        "# Imprimir a lista de valores pares\n",
        "print(lista_valores_pares)\n"
      ],
      "metadata": {
        "colab": {
          "base_uri": "https://localhost:8080/"
        },
        "id": "7S8PHi5xrqPD",
        "outputId": "ea4daed1-484d-41b1-d298-38564b45580e"
      },
      "execution_count": null,
      "outputs": [
        {
          "output_type": "stream",
          "name": "stdout",
          "text": [
            "[4, 6, 8, 10, 12, 14, 16, 18, 20]\n"
          ]
        }
      ]
    },
    {
      "cell_type": "code",
      "source": [
        "# Exercício 8 - Transforme o resultado desta função range em uma lista: range(5, 45, 2)\n",
        "nums = range(5, 45, 2)\n",
        "\n",
        "# Criar uma lista a partir do resultado da função range\n",
        "nums = list(range(5, 45, 2))\n",
        "\n",
        "# Imprimir a lista\n",
        "print(nums)\n"
      ],
      "metadata": {
        "colab": {
          "base_uri": "https://localhost:8080/"
        },
        "id": "iIb7l6OarzyE",
        "outputId": "380af059-c53c-4603-ec66-8d2bb08d4048"
      },
      "execution_count": null,
      "outputs": [
        {
          "output_type": "stream",
          "name": "stdout",
          "text": [
            "[5, 7, 9, 11, 13, 15, 17, 19, 21, 23, 25, 27, 29, 31, 33, 35, 37, 39, 41, 43]\n"
          ]
        }
      ]
    },
    {
      "cell_type": "code",
      "source": [
        "# Exercício 9 - Faça a correção dos erros no código abaixo e execute o programa. Dica: são 3 erros.\n",
        "\n",
        "#temperatura = float(input('Qual a temperatura? '))\n",
        "#if temperatura > 30\n",
        "#print('Vista roupas leves.')\n",
        "#else\n",
        "#    print('Busque seus casacos.')\n",
        "\n",
        "\n",
        "temperatura = float(input('Qual a temperatura? '))\n",
        "if temperatura > 30:\n",
        "    print('Vista roupas leves.')\n",
        "else:\n",
        "    print('Busque seus casacos.')\n",
        "\n",
        "\n",
        "#Os erros corrigidos são:\n",
        "\n",
        "#1. Falta de dois pontos (:) após a condição if temperatura > 30.\n",
        "#2. Falta de dois pontos (:) após a condição else.\n",
        "#3. Ausência de indentação correta no bloco do if e do else.\n"
      ],
      "metadata": {
        "colab": {
          "base_uri": "https://localhost:8080/"
        },
        "id": "RB0aquJ4r1A6",
        "outputId": "6a17ee8b-a429-496f-fb16-3c2400023a75"
      },
      "execution_count": null,
      "outputs": [
        {
          "output_type": "stream",
          "name": "stdout",
          "text": [
            "Qual a temperatura? 50\n",
            "Vista roupas leves.\n"
          ]
        }
      ]
    },
    {
      "cell_type": "code",
      "source": [
        "# Exercício 10 - Faça um programa que conte quantas vezes a letra \"r\" aparece na frase abaixo. Use um placeholder na\n",
        "# sua instrução de impressão\n",
        "\n",
        "# “A gratidão é a virtude das almas nobres. O quão feliz é uma pessoa depende da profundidade de sua gratidão.”\n",
        "\n",
        "#frase = \"A gratidão é a virtude das almas nobres. O quão feliz é uma pessoa depende da profundidade de sua gratidão.\"\n",
        "\n",
        "frase = \"A gratidão é a virtude das almas nobres. O quão feliz é uma pessoa depende da profundidade de sua gratidão.\"\n",
        "\n",
        "# Contar quantas vezes a letra \"r\" aparece na frase\n",
        "quantidade_r = frase.count(\"r\")\n",
        "\n",
        "# Imprimir o resultado usando um placeholder\n",
        "print(\"A letra 'r' aparece %d vezes na frase.\" % quantidade_r)\n"
      ],
      "metadata": {
        "colab": {
          "base_uri": "https://localhost:8080/"
        },
        "id": "DWDSSjlgr4JF",
        "outputId": "d06000f5-2ca6-4559-c4fb-ef92ec31b66d"
      },
      "execution_count": null,
      "outputs": [
        {
          "output_type": "stream",
          "name": "stdout",
          "text": [
            "A letra 'r' aparece 5 vezes na frase.\n"
          ]
        }
      ]
    }
  ]
}